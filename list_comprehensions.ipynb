{
 "cells": [
  {
   "cell_type": "markdown",
   "id": "739836ce",
   "metadata": {},
   "source": [
    "## Python List Comprehensions"
   ]
  },
  {
   "cell_type": "markdown",
   "id": "fa218846",
   "metadata": {},
   "source": [
    "List comprehensions are used to transform lists, creating new lists and dictionaries based on existing values."
   ]
  },
  {
   "cell_type": "markdown",
   "execution_count": null,
   "id": "1caa6c25",
   "metadata": {},
   "outputs": [],
   "source": [
    "The following example shows a multi-line for loop:"
   ]
  },
  {
   "cell_type": "code",
   "execution_count": 3,
   "id": "2f5a9285",
   "metadata": {},
   "outputs": [
    {
     "name": "stdout",
     "output_type": "stream",
     "text": [
      "[2, 3, 5, 7]\n"
     ]
    }
   ],
   "source": [
    "prime_nums = [2, 3, 5, 7, 11, 13, 17, 19]\n",
    "\n",
    "new_list = []\n",
    "\n",
    "for num in prime_nums:\n",
    "    if num < 10:\n",
    "        new_list.append(num)\n",
    "        \n",
    "print(new_list)"
   ]
  },
  {
   "cell_type": "markdown",
   "id": "00de981a",
   "metadata": {},
   "source": [
    "This example returns a list of numbers under the condition that they are less than 10."
   ]
  },
  {
   "cell_type": "markdown",
   "id": "30b4566b",
   "metadata": {},
   "source": [
    "List comprehensions use the following condensed syntax:\n",
    "new_list = *[expression for item in iterable if condition == True]*"
   ]
  },
  {
   "cell_type": "markdown",
   "id": "488e1b80",
   "metadata": {},
   "source": [
    "Here is the above function formatted as a list comprehension:"
   ]
  },
  {
   "cell_type": "code",
   "execution_count": 9,
   "id": "fa716282",
   "metadata": {},
   "outputs": [
    {
     "name": "stdout",
     "output_type": "stream",
     "text": [
      "[2, 3, 5, 7]\n"
     ]
    }
   ],
   "source": [
    "new_list = [num for num in prime_nums if num < 10]\n",
    "\n",
    "print(new_list)"
   ]
  },
  {
   "cell_type": "markdown",
   "id": "e882cb2e",
   "metadata": {},
   "source": [
    "As you can see, the output is the same; however, there are three benefits to writing the function as a list comprehension:\n",
    "    1. The list comprehension reduces three lines of code into one.\n",
    "    2. The list comprehension computes faster.\n",
    "    3. List comprehensions follow the principles of the Zen of Python and are therefore more \"Pythonic\"."
   ]
  }
 ],
 "metadata": {
  "kernelspec": {
   "display_name": "Python 3 (ipykernel)",
   "language": "python",
   "name": "python3"
  },
  "language_info": {
   "codemirror_mode": {
    "name": "ipython",
    "version": 3
   },
   "file_extension": ".py",
   "mimetype": "text/x-python",
   "name": "python",
   "nbconvert_exporter": "python",
   "pygments_lexer": "ipython3",
   "version": "3.9.13"
  }
 },
 "nbformat": 4,
 "nbformat_minor": 5
}
